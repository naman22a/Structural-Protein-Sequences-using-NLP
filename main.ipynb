{
 "cells": [
  {
   "cell_type": "code",
   "execution_count": 1,
   "id": "69ed4e9a-da91-4228-bd98-eb7f829c0c14",
   "metadata": {},
   "outputs": [],
   "source": [
    "import pandas as pd\n",
    "import numpy as np\n",
    "from matplotlib import pyplot as plt\n",
    "import seaborn as sns\n",
    "from sklearn.feature_extraction.text import CountVectorizer\n",
    "from sklearn.model_selection import train_test_split\n",
    "from sklearn.metrics import accuracy_score, confusion_matrix, classification_report"
   ]
  },
  {
   "cell_type": "code",
   "execution_count": 2,
   "id": "a2268a7c-bf25-4b84-9de8-25543d1b1e61",
   "metadata": {},
   "outputs": [],
   "source": [
    "df_seq = pd.read_csv('./data/pdb_data_seq.csv')\n",
    "df_char = pd.read_csv('./data/pdb_data_no_dups.csv')"
   ]
  },
  {
   "cell_type": "code",
   "execution_count": 3,
   "id": "f3ac4aaa-1c62-4a03-875a-482ffd208f50",
   "metadata": {},
   "outputs": [],
   "source": [
    "protein_char = df_char[df_char.macromoleculeType == 'Protein']\n",
    "protein_seq = df_seq[df_seq.macromoleculeType == 'Protein']"
   ]
  },
  {
   "cell_type": "code",
   "execution_count": 4,
   "id": "ccb04c43-b373-4bcf-8356-578ed2410f88",
   "metadata": {},
   "outputs": [
    {
     "data": {
      "text/html": [
       "<div>\n",
       "<style scoped>\n",
       "    .dataframe tbody tr th:only-of-type {\n",
       "        vertical-align: middle;\n",
       "    }\n",
       "\n",
       "    .dataframe tbody tr th {\n",
       "        vertical-align: top;\n",
       "    }\n",
       "\n",
       "    .dataframe thead th {\n",
       "        text-align: right;\n",
       "    }\n",
       "</style>\n",
       "<table border=\"1\" class=\"dataframe\">\n",
       "  <thead>\n",
       "    <tr style=\"text-align: right;\">\n",
       "      <th></th>\n",
       "      <th>structureId</th>\n",
       "      <th>classification</th>\n",
       "      <th>experimentalTechnique</th>\n",
       "      <th>macromoleculeType</th>\n",
       "      <th>residueCount</th>\n",
       "      <th>resolution</th>\n",
       "      <th>structureMolecularWeight</th>\n",
       "      <th>crystallizationMethod</th>\n",
       "      <th>crystallizationTempK</th>\n",
       "      <th>densityMatthews</th>\n",
       "      <th>densityPercentSol</th>\n",
       "      <th>pdbxDetails</th>\n",
       "      <th>phValue</th>\n",
       "      <th>publicationYear</th>\n",
       "    </tr>\n",
       "  </thead>\n",
       "  <tbody>\n",
       "    <tr>\n",
       "      <th>2</th>\n",
       "      <td>101M</td>\n",
       "      <td>OXYGEN TRANSPORT</td>\n",
       "      <td>X-RAY DIFFRACTION</td>\n",
       "      <td>Protein</td>\n",
       "      <td>154</td>\n",
       "      <td>2.07</td>\n",
       "      <td>18112.80</td>\n",
       "      <td>NaN</td>\n",
       "      <td>NaN</td>\n",
       "      <td>3.09</td>\n",
       "      <td>60.20</td>\n",
       "      <td>3.0 M AMMONIUM SULFATE, 20 MM TRIS, 1MM EDTA, ...</td>\n",
       "      <td>9.0</td>\n",
       "      <td>1999.0</td>\n",
       "    </tr>\n",
       "    <tr>\n",
       "      <th>4</th>\n",
       "      <td>102L</td>\n",
       "      <td>HYDROLASE(O-GLYCOSYL)</td>\n",
       "      <td>X-RAY DIFFRACTION</td>\n",
       "      <td>Protein</td>\n",
       "      <td>165</td>\n",
       "      <td>1.74</td>\n",
       "      <td>18926.61</td>\n",
       "      <td>NaN</td>\n",
       "      <td>NaN</td>\n",
       "      <td>2.75</td>\n",
       "      <td>55.28</td>\n",
       "      <td>NaN</td>\n",
       "      <td>NaN</td>\n",
       "      <td>1993.0</td>\n",
       "    </tr>\n",
       "    <tr>\n",
       "      <th>5</th>\n",
       "      <td>102M</td>\n",
       "      <td>OXYGEN TRANSPORT</td>\n",
       "      <td>X-RAY DIFFRACTION</td>\n",
       "      <td>Protein</td>\n",
       "      <td>154</td>\n",
       "      <td>1.84</td>\n",
       "      <td>18010.64</td>\n",
       "      <td>NaN</td>\n",
       "      <td>NaN</td>\n",
       "      <td>3.09</td>\n",
       "      <td>60.20</td>\n",
       "      <td>3.0 M AMMONIUM SULFATE, 20 MM TRIS, 1MM EDTA, ...</td>\n",
       "      <td>9.0</td>\n",
       "      <td>1999.0</td>\n",
       "    </tr>\n",
       "    <tr>\n",
       "      <th>7</th>\n",
       "      <td>103L</td>\n",
       "      <td>HYDROLASE(O-GLYCOSYL)</td>\n",
       "      <td>X-RAY DIFFRACTION</td>\n",
       "      <td>Protein</td>\n",
       "      <td>167</td>\n",
       "      <td>1.90</td>\n",
       "      <td>19092.72</td>\n",
       "      <td>NaN</td>\n",
       "      <td>NaN</td>\n",
       "      <td>2.70</td>\n",
       "      <td>54.46</td>\n",
       "      <td>NaN</td>\n",
       "      <td>NaN</td>\n",
       "      <td>1993.0</td>\n",
       "    </tr>\n",
       "    <tr>\n",
       "      <th>8</th>\n",
       "      <td>103M</td>\n",
       "      <td>OXYGEN TRANSPORT</td>\n",
       "      <td>X-RAY DIFFRACTION</td>\n",
       "      <td>Protein</td>\n",
       "      <td>154</td>\n",
       "      <td>2.07</td>\n",
       "      <td>18093.78</td>\n",
       "      <td>NaN</td>\n",
       "      <td>NaN</td>\n",
       "      <td>3.09</td>\n",
       "      <td>60.30</td>\n",
       "      <td>3.0 M AMMONIUM SULFATE, 20 MM TRIS, 1MM EDTA, ...</td>\n",
       "      <td>9.0</td>\n",
       "      <td>1999.0</td>\n",
       "    </tr>\n",
       "  </tbody>\n",
       "</table>\n",
       "</div>"
      ],
      "text/plain": [
       "  structureId         classification experimentalTechnique macromoleculeType  \\\n",
       "2        101M       OXYGEN TRANSPORT     X-RAY DIFFRACTION           Protein   \n",
       "4        102L  HYDROLASE(O-GLYCOSYL)     X-RAY DIFFRACTION           Protein   \n",
       "5        102M       OXYGEN TRANSPORT     X-RAY DIFFRACTION           Protein   \n",
       "7        103L  HYDROLASE(O-GLYCOSYL)     X-RAY DIFFRACTION           Protein   \n",
       "8        103M       OXYGEN TRANSPORT     X-RAY DIFFRACTION           Protein   \n",
       "\n",
       "   residueCount  resolution  structureMolecularWeight crystallizationMethod  \\\n",
       "2           154        2.07                  18112.80                   NaN   \n",
       "4           165        1.74                  18926.61                   NaN   \n",
       "5           154        1.84                  18010.64                   NaN   \n",
       "7           167        1.90                  19092.72                   NaN   \n",
       "8           154        2.07                  18093.78                   NaN   \n",
       "\n",
       "   crystallizationTempK  densityMatthews  densityPercentSol  \\\n",
       "2                   NaN             3.09              60.20   \n",
       "4                   NaN             2.75              55.28   \n",
       "5                   NaN             3.09              60.20   \n",
       "7                   NaN             2.70              54.46   \n",
       "8                   NaN             3.09              60.30   \n",
       "\n",
       "                                         pdbxDetails  phValue  publicationYear  \n",
       "2  3.0 M AMMONIUM SULFATE, 20 MM TRIS, 1MM EDTA, ...      9.0           1999.0  \n",
       "4                                                NaN      NaN           1993.0  \n",
       "5  3.0 M AMMONIUM SULFATE, 20 MM TRIS, 1MM EDTA, ...      9.0           1999.0  \n",
       "7                                                NaN      NaN           1993.0  \n",
       "8  3.0 M AMMONIUM SULFATE, 20 MM TRIS, 1MM EDTA, ...      9.0           1999.0  "
      ]
     },
     "execution_count": 4,
     "metadata": {},
     "output_type": "execute_result"
    }
   ],
   "source": [
    "protein_char.head()"
   ]
  },
  {
   "cell_type": "code",
   "execution_count": 5,
   "id": "f712d38c-613d-467d-be03-f7bb56e5734f",
   "metadata": {},
   "outputs": [
    {
     "data": {
      "text/html": [
       "<div>\n",
       "<style scoped>\n",
       "    .dataframe tbody tr th:only-of-type {\n",
       "        vertical-align: middle;\n",
       "    }\n",
       "\n",
       "    .dataframe tbody tr th {\n",
       "        vertical-align: top;\n",
       "    }\n",
       "\n",
       "    .dataframe thead th {\n",
       "        text-align: right;\n",
       "    }\n",
       "</style>\n",
       "<table border=\"1\" class=\"dataframe\">\n",
       "  <thead>\n",
       "    <tr style=\"text-align: right;\">\n",
       "      <th></th>\n",
       "      <th>structureId</th>\n",
       "      <th>chainId</th>\n",
       "      <th>sequence</th>\n",
       "      <th>residueCount</th>\n",
       "      <th>macromoleculeType</th>\n",
       "    </tr>\n",
       "  </thead>\n",
       "  <tbody>\n",
       "    <tr>\n",
       "      <th>4</th>\n",
       "      <td>101M</td>\n",
       "      <td>A</td>\n",
       "      <td>MVLSEGEWQLVLHVWAKVEADVAGHGQDILIRLFKSHPETLEKFDR...</td>\n",
       "      <td>154</td>\n",
       "      <td>Protein</td>\n",
       "    </tr>\n",
       "    <tr>\n",
       "      <th>7</th>\n",
       "      <td>102L</td>\n",
       "      <td>A</td>\n",
       "      <td>MNIFEMLRIDEGLRLKIYKDTEGYYTIGIGHLLTKSPSLNAAAKSE...</td>\n",
       "      <td>165</td>\n",
       "      <td>Protein</td>\n",
       "    </tr>\n",
       "    <tr>\n",
       "      <th>8</th>\n",
       "      <td>102M</td>\n",
       "      <td>A</td>\n",
       "      <td>MVLSEGEWQLVLHVWAKVEADVAGHGQDILIRLFKSHPETLEKFDR...</td>\n",
       "      <td>154</td>\n",
       "      <td>Protein</td>\n",
       "    </tr>\n",
       "    <tr>\n",
       "      <th>11</th>\n",
       "      <td>103L</td>\n",
       "      <td>A</td>\n",
       "      <td>MNIFEMLRIDEGLRLKIYKDTEGYYTIGIGHLLTKSPSLNSLDAAK...</td>\n",
       "      <td>167</td>\n",
       "      <td>Protein</td>\n",
       "    </tr>\n",
       "    <tr>\n",
       "      <th>12</th>\n",
       "      <td>103M</td>\n",
       "      <td>A</td>\n",
       "      <td>MVLSEGEWQLVLHVWAKVEADVAGHGQDILIRLFKSHPETLEKFDR...</td>\n",
       "      <td>154</td>\n",
       "      <td>Protein</td>\n",
       "    </tr>\n",
       "  </tbody>\n",
       "</table>\n",
       "</div>"
      ],
      "text/plain": [
       "   structureId chainId                                           sequence  \\\n",
       "4         101M       A  MVLSEGEWQLVLHVWAKVEADVAGHGQDILIRLFKSHPETLEKFDR...   \n",
       "7         102L       A  MNIFEMLRIDEGLRLKIYKDTEGYYTIGIGHLLTKSPSLNAAAKSE...   \n",
       "8         102M       A  MVLSEGEWQLVLHVWAKVEADVAGHGQDILIRLFKSHPETLEKFDR...   \n",
       "11        103L       A  MNIFEMLRIDEGLRLKIYKDTEGYYTIGIGHLLTKSPSLNSLDAAK...   \n",
       "12        103M       A  MVLSEGEWQLVLHVWAKVEADVAGHGQDILIRLFKSHPETLEKFDR...   \n",
       "\n",
       "    residueCount macromoleculeType  \n",
       "4            154           Protein  \n",
       "7            165           Protein  \n",
       "8            154           Protein  \n",
       "11           167           Protein  \n",
       "12           154           Protein  "
      ]
     },
     "execution_count": 5,
     "metadata": {},
     "output_type": "execute_result"
    }
   ],
   "source": [
    "protein_seq.head()"
   ]
  },
  {
   "cell_type": "code",
   "execution_count": 6,
   "id": "79e10afc-e129-4945-a01e-0a96dbd3181c",
   "metadata": {},
   "outputs": [
    {
     "data": {
      "text/html": [
       "<div>\n",
       "<style scoped>\n",
       "    .dataframe tbody tr th:only-of-type {\n",
       "        vertical-align: middle;\n",
       "    }\n",
       "\n",
       "    .dataframe tbody tr th {\n",
       "        vertical-align: top;\n",
       "    }\n",
       "\n",
       "    .dataframe thead th {\n",
       "        text-align: right;\n",
       "    }\n",
       "</style>\n",
       "<table border=\"1\" class=\"dataframe\">\n",
       "  <thead>\n",
       "    <tr style=\"text-align: right;\">\n",
       "      <th></th>\n",
       "      <th>structureId</th>\n",
       "      <th>chainId</th>\n",
       "      <th>sequence</th>\n",
       "      <th>residueCount</th>\n",
       "      <th>macromoleculeType</th>\n",
       "    </tr>\n",
       "  </thead>\n",
       "  <tbody>\n",
       "    <tr>\n",
       "      <th>count</th>\n",
       "      <td>345180</td>\n",
       "      <td>345178</td>\n",
       "      <td>345177</td>\n",
       "      <td>345180.000000</td>\n",
       "      <td>345180</td>\n",
       "    </tr>\n",
       "    <tr>\n",
       "      <th>unique</th>\n",
       "      <td>127387</td>\n",
       "      <td>2348</td>\n",
       "      <td>89083</td>\n",
       "      <td>NaN</td>\n",
       "      <td>1</td>\n",
       "    </tr>\n",
       "    <tr>\n",
       "      <th>top</th>\n",
       "      <td>3J3Q</td>\n",
       "      <td>A</td>\n",
       "      <td>PIVQNLQGQMVHQAISPRTLNAWVKVVEEKAFSPEVIPMFSALSEG...</td>\n",
       "      <td>NaN</td>\n",
       "      <td>Protein</td>\n",
       "    </tr>\n",
       "    <tr>\n",
       "      <th>freq</th>\n",
       "      <td>1356</td>\n",
       "      <td>123105</td>\n",
       "      <td>2580</td>\n",
       "      <td>NaN</td>\n",
       "      <td>345180</td>\n",
       "    </tr>\n",
       "    <tr>\n",
       "      <th>mean</th>\n",
       "      <td>NaN</td>\n",
       "      <td>NaN</td>\n",
       "      <td>NaN</td>\n",
       "      <td>4717.870508</td>\n",
       "      <td>NaN</td>\n",
       "    </tr>\n",
       "    <tr>\n",
       "      <th>std</th>\n",
       "      <td>NaN</td>\n",
       "      <td>NaN</td>\n",
       "      <td>NaN</td>\n",
       "      <td>26527.126728</td>\n",
       "      <td>NaN</td>\n",
       "    </tr>\n",
       "    <tr>\n",
       "      <th>min</th>\n",
       "      <td>NaN</td>\n",
       "      <td>NaN</td>\n",
       "      <td>NaN</td>\n",
       "      <td>3.000000</td>\n",
       "      <td>NaN</td>\n",
       "    </tr>\n",
       "    <tr>\n",
       "      <th>25%</th>\n",
       "      <td>NaN</td>\n",
       "      <td>NaN</td>\n",
       "      <td>NaN</td>\n",
       "      <td>398.000000</td>\n",
       "      <td>NaN</td>\n",
       "    </tr>\n",
       "    <tr>\n",
       "      <th>50%</th>\n",
       "      <td>NaN</td>\n",
       "      <td>NaN</td>\n",
       "      <td>NaN</td>\n",
       "      <td>856.000000</td>\n",
       "      <td>NaN</td>\n",
       "    </tr>\n",
       "    <tr>\n",
       "      <th>75%</th>\n",
       "      <td>NaN</td>\n",
       "      <td>NaN</td>\n",
       "      <td>NaN</td>\n",
       "      <td>1976.000000</td>\n",
       "      <td>NaN</td>\n",
       "    </tr>\n",
       "    <tr>\n",
       "      <th>max</th>\n",
       "      <td>NaN</td>\n",
       "      <td>NaN</td>\n",
       "      <td>NaN</td>\n",
       "      <td>313236.000000</td>\n",
       "      <td>NaN</td>\n",
       "    </tr>\n",
       "  </tbody>\n",
       "</table>\n",
       "</div>"
      ],
      "text/plain": [
       "       structureId chainId                                           sequence  \\\n",
       "count       345180  345178                                             345177   \n",
       "unique      127387    2348                                              89083   \n",
       "top           3J3Q       A  PIVQNLQGQMVHQAISPRTLNAWVKVVEEKAFSPEVIPMFSALSEG...   \n",
       "freq          1356  123105                                               2580   \n",
       "mean           NaN     NaN                                                NaN   \n",
       "std            NaN     NaN                                                NaN   \n",
       "min            NaN     NaN                                                NaN   \n",
       "25%            NaN     NaN                                                NaN   \n",
       "50%            NaN     NaN                                                NaN   \n",
       "75%            NaN     NaN                                                NaN   \n",
       "max            NaN     NaN                                                NaN   \n",
       "\n",
       "         residueCount macromoleculeType  \n",
       "count   345180.000000            345180  \n",
       "unique            NaN                 1  \n",
       "top               NaN           Protein  \n",
       "freq              NaN            345180  \n",
       "mean      4717.870508               NaN  \n",
       "std      26527.126728               NaN  \n",
       "min          3.000000               NaN  \n",
       "25%        398.000000               NaN  \n",
       "50%        856.000000               NaN  \n",
       "75%       1976.000000               NaN  \n",
       "max     313236.000000               NaN  "
      ]
     },
     "execution_count": 6,
     "metadata": {},
     "output_type": "execute_result"
    }
   ],
   "source": [
    "protein_seq.describe(include=\"all\")"
   ]
  },
  {
   "cell_type": "code",
   "execution_count": 7,
   "id": "cbfd67f5-eaf3-4f6c-a807-3a31d2a2d767",
   "metadata": {},
   "outputs": [
    {
     "data": {
      "text/plain": [
       "Index(['structureId', 'classification', 'experimentalTechnique',\n",
       "       'macromoleculeType', 'residueCount', 'resolution',\n",
       "       'structureMolecularWeight', 'crystallizationMethod',\n",
       "       'crystallizationTempK', 'densityMatthews', 'densityPercentSol',\n",
       "       'pdbxDetails', 'phValue', 'publicationYear'],\n",
       "      dtype='object')"
      ]
     },
     "execution_count": 7,
     "metadata": {},
     "output_type": "execute_result"
    }
   ],
   "source": [
    "protein_char.columns"
   ]
  },
  {
   "cell_type": "code",
   "execution_count": 8,
   "id": "ad272d61-22b5-4313-99ab-de8cfcd0d9a3",
   "metadata": {},
   "outputs": [
    {
     "data": {
      "text/html": [
       "<div>\n",
       "<style scoped>\n",
       "    .dataframe tbody tr th:only-of-type {\n",
       "        vertical-align: middle;\n",
       "    }\n",
       "\n",
       "    .dataframe tbody tr th {\n",
       "        vertical-align: top;\n",
       "    }\n",
       "\n",
       "    .dataframe thead th {\n",
       "        text-align: right;\n",
       "    }\n",
       "</style>\n",
       "<table border=\"1\" class=\"dataframe\">\n",
       "  <thead>\n",
       "    <tr style=\"text-align: right;\">\n",
       "      <th></th>\n",
       "      <th>structureId</th>\n",
       "      <th>sequence</th>\n",
       "    </tr>\n",
       "  </thead>\n",
       "  <tbody>\n",
       "    <tr>\n",
       "      <th>4</th>\n",
       "      <td>101M</td>\n",
       "      <td>MVLSEGEWQLVLHVWAKVEADVAGHGQDILIRLFKSHPETLEKFDR...</td>\n",
       "    </tr>\n",
       "    <tr>\n",
       "      <th>7</th>\n",
       "      <td>102L</td>\n",
       "      <td>MNIFEMLRIDEGLRLKIYKDTEGYYTIGIGHLLTKSPSLNAAAKSE...</td>\n",
       "    </tr>\n",
       "    <tr>\n",
       "      <th>8</th>\n",
       "      <td>102M</td>\n",
       "      <td>MVLSEGEWQLVLHVWAKVEADVAGHGQDILIRLFKSHPETLEKFDR...</td>\n",
       "    </tr>\n",
       "    <tr>\n",
       "      <th>11</th>\n",
       "      <td>103L</td>\n",
       "      <td>MNIFEMLRIDEGLRLKIYKDTEGYYTIGIGHLLTKSPSLNSLDAAK...</td>\n",
       "    </tr>\n",
       "    <tr>\n",
       "      <th>12</th>\n",
       "      <td>103M</td>\n",
       "      <td>MVLSEGEWQLVLHVWAKVEADVAGHGQDILIRLFKSHPETLEKFDR...</td>\n",
       "    </tr>\n",
       "  </tbody>\n",
       "</table>\n",
       "</div>"
      ],
      "text/plain": [
       "   structureId                                           sequence\n",
       "4         101M  MVLSEGEWQLVLHVWAKVEADVAGHGQDILIRLFKSHPETLEKFDR...\n",
       "7         102L  MNIFEMLRIDEGLRLKIYKDTEGYYTIGIGHLLTKSPSLNAAAKSE...\n",
       "8         102M  MVLSEGEWQLVLHVWAKVEADVAGHGQDILIRLFKSHPETLEKFDR...\n",
       "11        103L  MNIFEMLRIDEGLRLKIYKDTEGYYTIGIGHLLTKSPSLNSLDAAK...\n",
       "12        103M  MVLSEGEWQLVLHVWAKVEADVAGHGQDILIRLFKSHPETLEKFDR..."
      ]
     },
     "execution_count": 8,
     "metadata": {},
     "output_type": "execute_result"
    }
   ],
   "source": [
    "protein_char = protein_char[['structureId','classification','residueCount', 'resolution',\n",
    "       'structureMolecularWeight','crystallizationTempK', 'densityMatthews', 'densityPercentSol', 'phValue']]\n",
    "protein_seq = protein_seq[['structureId','sequence']]\n",
    "protein_seq.head()"
   ]
  },
  {
   "cell_type": "code",
   "execution_count": 9,
   "id": "e14bb2b9-9ad0-4e40-a8ef-822535661c84",
   "metadata": {},
   "outputs": [
    {
     "data": {
      "text/html": [
       "<div>\n",
       "<style scoped>\n",
       "    .dataframe tbody tr th:only-of-type {\n",
       "        vertical-align: middle;\n",
       "    }\n",
       "\n",
       "    .dataframe tbody tr th {\n",
       "        vertical-align: top;\n",
       "    }\n",
       "\n",
       "    .dataframe thead th {\n",
       "        text-align: right;\n",
       "    }\n",
       "</style>\n",
       "<table border=\"1\" class=\"dataframe\">\n",
       "  <thead>\n",
       "    <tr style=\"text-align: right;\">\n",
       "      <th></th>\n",
       "      <th>structureId</th>\n",
       "      <th>classification</th>\n",
       "      <th>residueCount</th>\n",
       "      <th>resolution</th>\n",
       "      <th>structureMolecularWeight</th>\n",
       "      <th>crystallizationTempK</th>\n",
       "      <th>densityMatthews</th>\n",
       "      <th>densityPercentSol</th>\n",
       "      <th>phValue</th>\n",
       "    </tr>\n",
       "  </thead>\n",
       "  <tbody>\n",
       "    <tr>\n",
       "      <th>2</th>\n",
       "      <td>101M</td>\n",
       "      <td>OXYGEN TRANSPORT</td>\n",
       "      <td>154</td>\n",
       "      <td>2.07</td>\n",
       "      <td>18112.80</td>\n",
       "      <td>NaN</td>\n",
       "      <td>3.09</td>\n",
       "      <td>60.20</td>\n",
       "      <td>9.0</td>\n",
       "    </tr>\n",
       "    <tr>\n",
       "      <th>4</th>\n",
       "      <td>102L</td>\n",
       "      <td>HYDROLASE(O-GLYCOSYL)</td>\n",
       "      <td>165</td>\n",
       "      <td>1.74</td>\n",
       "      <td>18926.61</td>\n",
       "      <td>NaN</td>\n",
       "      <td>2.75</td>\n",
       "      <td>55.28</td>\n",
       "      <td>NaN</td>\n",
       "    </tr>\n",
       "    <tr>\n",
       "      <th>5</th>\n",
       "      <td>102M</td>\n",
       "      <td>OXYGEN TRANSPORT</td>\n",
       "      <td>154</td>\n",
       "      <td>1.84</td>\n",
       "      <td>18010.64</td>\n",
       "      <td>NaN</td>\n",
       "      <td>3.09</td>\n",
       "      <td>60.20</td>\n",
       "      <td>9.0</td>\n",
       "    </tr>\n",
       "    <tr>\n",
       "      <th>7</th>\n",
       "      <td>103L</td>\n",
       "      <td>HYDROLASE(O-GLYCOSYL)</td>\n",
       "      <td>167</td>\n",
       "      <td>1.90</td>\n",
       "      <td>19092.72</td>\n",
       "      <td>NaN</td>\n",
       "      <td>2.70</td>\n",
       "      <td>54.46</td>\n",
       "      <td>NaN</td>\n",
       "    </tr>\n",
       "    <tr>\n",
       "      <th>8</th>\n",
       "      <td>103M</td>\n",
       "      <td>OXYGEN TRANSPORT</td>\n",
       "      <td>154</td>\n",
       "      <td>2.07</td>\n",
       "      <td>18093.78</td>\n",
       "      <td>NaN</td>\n",
       "      <td>3.09</td>\n",
       "      <td>60.30</td>\n",
       "      <td>9.0</td>\n",
       "    </tr>\n",
       "  </tbody>\n",
       "</table>\n",
       "</div>"
      ],
      "text/plain": [
       "  structureId         classification  residueCount  resolution  \\\n",
       "2        101M       OXYGEN TRANSPORT           154        2.07   \n",
       "4        102L  HYDROLASE(O-GLYCOSYL)           165        1.74   \n",
       "5        102M       OXYGEN TRANSPORT           154        1.84   \n",
       "7        103L  HYDROLASE(O-GLYCOSYL)           167        1.90   \n",
       "8        103M       OXYGEN TRANSPORT           154        2.07   \n",
       "\n",
       "   structureMolecularWeight  crystallizationTempK  densityMatthews  \\\n",
       "2                  18112.80                   NaN             3.09   \n",
       "4                  18926.61                   NaN             2.75   \n",
       "5                  18010.64                   NaN             3.09   \n",
       "7                  19092.72                   NaN             2.70   \n",
       "8                  18093.78                   NaN             3.09   \n",
       "\n",
       "   densityPercentSol  phValue  \n",
       "2              60.20      9.0  \n",
       "4              55.28      NaN  \n",
       "5              60.20      9.0  \n",
       "7              54.46      NaN  \n",
       "8              60.30      9.0  "
      ]
     },
     "execution_count": 9,
     "metadata": {},
     "output_type": "execute_result"
    }
   ],
   "source": [
    "protein_char.head()"
   ]
  },
  {
   "cell_type": "code",
   "execution_count": 10,
   "id": "841636a6-14bf-4d37-acbf-f42468914cf6",
   "metadata": {},
   "outputs": [
    {
     "data": {
      "text/html": [
       "<div>\n",
       "<style scoped>\n",
       "    .dataframe tbody tr th:only-of-type {\n",
       "        vertical-align: middle;\n",
       "    }\n",
       "\n",
       "    .dataframe tbody tr th {\n",
       "        vertical-align: top;\n",
       "    }\n",
       "\n",
       "    .dataframe thead th {\n",
       "        text-align: right;\n",
       "    }\n",
       "</style>\n",
       "<table border=\"1\" class=\"dataframe\">\n",
       "  <thead>\n",
       "    <tr style=\"text-align: right;\">\n",
       "      <th></th>\n",
       "      <th>classification</th>\n",
       "      <th>residueCount</th>\n",
       "      <th>resolution</th>\n",
       "      <th>structureMolecularWeight</th>\n",
       "      <th>crystallizationTempK</th>\n",
       "      <th>densityMatthews</th>\n",
       "      <th>densityPercentSol</th>\n",
       "      <th>phValue</th>\n",
       "      <th>sequence</th>\n",
       "    </tr>\n",
       "    <tr>\n",
       "      <th>structureId</th>\n",
       "      <th></th>\n",
       "      <th></th>\n",
       "      <th></th>\n",
       "      <th></th>\n",
       "      <th></th>\n",
       "      <th></th>\n",
       "      <th></th>\n",
       "      <th></th>\n",
       "      <th></th>\n",
       "    </tr>\n",
       "  </thead>\n",
       "  <tbody>\n",
       "    <tr>\n",
       "      <th>101M</th>\n",
       "      <td>OXYGEN TRANSPORT</td>\n",
       "      <td>154</td>\n",
       "      <td>2.07</td>\n",
       "      <td>18112.80</td>\n",
       "      <td>NaN</td>\n",
       "      <td>3.09</td>\n",
       "      <td>60.20</td>\n",
       "      <td>9.0</td>\n",
       "      <td>MVLSEGEWQLVLHVWAKVEADVAGHGQDILIRLFKSHPETLEKFDR...</td>\n",
       "    </tr>\n",
       "    <tr>\n",
       "      <th>102L</th>\n",
       "      <td>HYDROLASE(O-GLYCOSYL)</td>\n",
       "      <td>165</td>\n",
       "      <td>1.74</td>\n",
       "      <td>18926.61</td>\n",
       "      <td>NaN</td>\n",
       "      <td>2.75</td>\n",
       "      <td>55.28</td>\n",
       "      <td>NaN</td>\n",
       "      <td>MNIFEMLRIDEGLRLKIYKDTEGYYTIGIGHLLTKSPSLNAAAKSE...</td>\n",
       "    </tr>\n",
       "    <tr>\n",
       "      <th>102M</th>\n",
       "      <td>OXYGEN TRANSPORT</td>\n",
       "      <td>154</td>\n",
       "      <td>1.84</td>\n",
       "      <td>18010.64</td>\n",
       "      <td>NaN</td>\n",
       "      <td>3.09</td>\n",
       "      <td>60.20</td>\n",
       "      <td>9.0</td>\n",
       "      <td>MVLSEGEWQLVLHVWAKVEADVAGHGQDILIRLFKSHPETLEKFDR...</td>\n",
       "    </tr>\n",
       "    <tr>\n",
       "      <th>103L</th>\n",
       "      <td>HYDROLASE(O-GLYCOSYL)</td>\n",
       "      <td>167</td>\n",
       "      <td>1.90</td>\n",
       "      <td>19092.72</td>\n",
       "      <td>NaN</td>\n",
       "      <td>2.70</td>\n",
       "      <td>54.46</td>\n",
       "      <td>NaN</td>\n",
       "      <td>MNIFEMLRIDEGLRLKIYKDTEGYYTIGIGHLLTKSPSLNSLDAAK...</td>\n",
       "    </tr>\n",
       "    <tr>\n",
       "      <th>103M</th>\n",
       "      <td>OXYGEN TRANSPORT</td>\n",
       "      <td>154</td>\n",
       "      <td>2.07</td>\n",
       "      <td>18093.78</td>\n",
       "      <td>NaN</td>\n",
       "      <td>3.09</td>\n",
       "      <td>60.30</td>\n",
       "      <td>9.0</td>\n",
       "      <td>MVLSEGEWQLVLHVWAKVEADVAGHGQDILIRLFKSHPETLEKFDR...</td>\n",
       "    </tr>\n",
       "  </tbody>\n",
       "</table>\n",
       "</div>"
      ],
      "text/plain": [
       "                    classification  residueCount  resolution  \\\n",
       "structureId                                                    \n",
       "101M              OXYGEN TRANSPORT           154        2.07   \n",
       "102L         HYDROLASE(O-GLYCOSYL)           165        1.74   \n",
       "102M              OXYGEN TRANSPORT           154        1.84   \n",
       "103L         HYDROLASE(O-GLYCOSYL)           167        1.90   \n",
       "103M              OXYGEN TRANSPORT           154        2.07   \n",
       "\n",
       "             structureMolecularWeight  crystallizationTempK  densityMatthews  \\\n",
       "structureId                                                                    \n",
       "101M                         18112.80                   NaN             3.09   \n",
       "102L                         18926.61                   NaN             2.75   \n",
       "102M                         18010.64                   NaN             3.09   \n",
       "103L                         19092.72                   NaN             2.70   \n",
       "103M                         18093.78                   NaN             3.09   \n",
       "\n",
       "             densityPercentSol  phValue  \\\n",
       "structureId                               \n",
       "101M                     60.20      9.0   \n",
       "102L                     55.28      NaN   \n",
       "102M                     60.20      9.0   \n",
       "103L                     54.46      NaN   \n",
       "103M                     60.30      9.0   \n",
       "\n",
       "                                                      sequence  \n",
       "structureId                                                     \n",
       "101M         MVLSEGEWQLVLHVWAKVEADVAGHGQDILIRLFKSHPETLEKFDR...  \n",
       "102L         MNIFEMLRIDEGLRLKIYKDTEGYYTIGIGHLLTKSPSLNAAAKSE...  \n",
       "102M         MVLSEGEWQLVLHVWAKVEADVAGHGQDILIRLFKSHPETLEKFDR...  \n",
       "103L         MNIFEMLRIDEGLRLKIYKDTEGYYTIGIGHLLTKSPSLNSLDAAK...  \n",
       "103M         MVLSEGEWQLVLHVWAKVEADVAGHGQDILIRLFKSHPETLEKFDR...  "
      ]
     },
     "execution_count": 10,
     "metadata": {},
     "output_type": "execute_result"
    }
   ],
   "source": [
    "model_f = protein_char.set_index('structureId').join(protein_seq.set_index('structureId'))\n",
    "model_f.head()"
   ]
  },
  {
   "cell_type": "code",
   "execution_count": 11,
   "id": "54280258-3e7d-4c9e-bb6a-a23e3dca6b64",
   "metadata": {},
   "outputs": [
    {
     "name": "stdout",
     "output_type": "stream",
     "text": [
      "346325 is the number of rows in the joined dataset\n"
     ]
    }
   ],
   "source": [
    "print('%d is the number of rows in the joined dataset' %model_f.shape[0])"
   ]
  },
  {
   "cell_type": "code",
   "execution_count": 12,
   "id": "ce60edd4-9bc5-4552-a29b-85fe9aa070ae",
   "metadata": {},
   "outputs": [
    {
     "data": {
      "text/plain": [
       "classification                   1\n",
       "residueCount                     0\n",
       "resolution                   16093\n",
       "structureMolecularWeight         0\n",
       "crystallizationTempK        102391\n",
       "densityMatthews              38844\n",
       "densityPercentSol            38710\n",
       "phValue                      87195\n",
       "sequence                         3\n",
       "dtype: int64"
      ]
     },
     "execution_count": 12,
     "metadata": {},
     "output_type": "execute_result"
    }
   ],
   "source": [
    "model_f.isnull().sum()"
   ]
  },
  {
   "cell_type": "code",
   "execution_count": 13,
   "id": "510e3ed7-3355-400f-a685-7dda9ad29829",
   "metadata": {},
   "outputs": [
    {
     "name": "stdout",
     "output_type": "stream",
     "text": [
      "214106 is the number of proteins that have a classification and sequence\n"
     ]
    }
   ],
   "source": [
    "model_f = model_f.dropna()\n",
    "print('%d is the number of proteins that have a classification and sequence' %model_f.shape[0])"
   ]
  },
  {
   "cell_type": "code",
   "execution_count": 14,
   "id": "a498dfc3-e03c-4423-aa4a-42820ed6fc26",
   "metadata": {},
   "outputs": [
    {
     "data": {
      "image/png": "[encoded data removed]",
      "text/plain": [
       "<Figure size 640x480 with 1 Axes>"
      ]
     },
     "metadata": {},
     "output_type": "display_data"
    }
   ],
   "source": [
    "counts = model_f.classification.value_counts()\n",
    "plt.figure()\n",
    "plt.hist(counts, color='purple')\n",
    "plt.title('Count Distribution for Family Types')\n",
    "plt.ylabel('% of records')\n",
    "plt.show()"
   ]
  },
  {
   "cell_type": "code",
   "execution_count": 15,
   "id": "2d5b3905-0432-445d-a23a-c993b60f4406",
   "metadata": {},
   "outputs": [
    {
     "name": "stdout",
     "output_type": "stream",
     "text": [
      "32\n",
      "['HYDROLASE' 'TRANSFERASE' 'OXIDOREDUCTASE' 'IMMUNE SYSTEM'\n",
      " 'HYDROLASE/HYDROLASE INHIBITOR' 'LYASE' 'TRANSCRIPTION'\n",
      " 'TRANSPORT PROTEIN' 'ISOMERASE' 'VIRAL PROTEIN' 'SIGNALING PROTEIN'\n",
      " 'LIGASE' 'PROTEIN BINDING' 'STRUCTURAL GENOMICS, UNKNOWN FUNCTION'\n",
      " 'TRANSFERASE/TRANSFERASE INHIBITOR' 'MEMBRANE PROTEIN'\n",
      " 'SUGAR BINDING PROTEIN' 'UNKNOWN FUNCTION' 'DNA BINDING PROTEIN'\n",
      " 'CHAPERONE' 'STRUCTURAL PROTEIN' 'METAL BINDING PROTEIN' 'CELL ADHESION'\n",
      " 'ELECTRON TRANSPORT' 'PROTEIN TRANSPORT'\n",
      " 'OXIDOREDUCTASE/OXIDOREDUCTASE INHIBITOR' 'TOXIN' 'RNA BINDING PROTEIN'\n",
      " 'CELL CYCLE' 'PHOTOSYNTHESIS' 'GENE REGULATION' 'DE NOVO PROTEIN']\n",
      "46422 is the number of records in the final filtered dataset\n"
     ]
    }
   ],
   "source": [
    "# Get classification types where counts are over 1000\n",
    "types = np.asarray(counts[(counts > 1000)].index)\n",
    "print(len(types))\n",
    "# Filter dataset's records for classification types > 1000\n",
    "data = model_f[model_f.classification.isin(types)]\n",
    "data = data.drop_duplicates(subset=[\"classification\",\"sequence\"])  # leaving more rows results in duplciates / index related?\n",
    "\n",
    "print(types)\n",
    "print('%d is the number of records in the final filtered dataset' %data.shape[0])"
   ]
  },
  {
   "cell_type": "code",
   "execution_count": 16,
   "id": "eeffbeba-b3d2-4653-92d6-9646d4733a5a",
   "metadata": {},
   "outputs": [
    {
     "data": {
      "text/plain": [
       "(46422, 9)"
      ]
     },
     "execution_count": 16,
     "metadata": {},
     "output_type": "execute_result"
    }
   ],
   "source": [
    "data = data.drop_duplicates(subset=[\"classification\",\"sequence\"]) \n",
    "data.shape"
   ]
  },
  {
   "cell_type": "code",
   "execution_count": 17,
   "id": "2b37d703-339a-4f6e-b0a3-b02f826141f6",
   "metadata": {},
   "outputs": [],
   "source": [
    "def char_grams(text,n=3,jump_size=2):\n",
    "    return [text[i:i+n] for i in range(0,len(text)-n+1,jump_size)]"
   ]
  },
  {
   "cell_type": "code",
   "execution_count": 18,
   "id": "ad4d973f-6b4c-47d9-b177-943a464c571a",
   "metadata": {},
   "outputs": [
    {
     "data": {
      "text/plain": [
       "structureId\n",
       "1A4S    [AQL, LVD, DSM, MPS, SAS, STG, GSV, VVV, VTD, ...\n",
       "1A6Q    [MGA, AFL, LDK, KPK, KME, EKH, HNA, AQG, GQG, ...\n",
       "1A72    [STA, AGK, KVI, IKC, CKA, AAV, VLW, WEE, EKK, ...\n",
       "Name: sequence, dtype: object"
      ]
     },
     "execution_count": 18,
     "metadata": {},
     "output_type": "execute_result"
    }
   ],
   "source": [
    "data.head(3).sequence.apply(char_grams)"
   ]
  },
  {
   "cell_type": "code",
   "execution_count": 19,
   "id": "f88b2ba2-ede2-4234-b7c2-8e19ab6f2bb0",
   "metadata": {},
   "outputs": [],
   "source": [
    "data[\"3mers\"] = data.sequence.apply(char_grams)"
   ]
  },
  {
   "cell_type": "code",
   "execution_count": 20,
   "id": "67208dc6-8c1b-4817-b816-648d8cbdedad",
   "metadata": {},
   "outputs": [
    {
     "data": {
      "text/html": [
       "<div>\n",
       "<style scoped>\n",
       "    .dataframe tbody tr th:only-of-type {\n",
       "        vertical-align: middle;\n",
       "    }\n",
       "\n",
       "    .dataframe tbody tr th {\n",
       "        vertical-align: top;\n",
       "    }\n",
       "\n",
       "    .dataframe thead th {\n",
       "        text-align: right;\n",
       "    }\n",
       "</style>\n",
       "<table border=\"1\" class=\"dataframe\">\n",
       "  <thead>\n",
       "    <tr style=\"text-align: right;\">\n",
       "      <th></th>\n",
       "      <th>classification</th>\n",
       "      <th>residueCount</th>\n",
       "      <th>resolution</th>\n",
       "      <th>structureMolecularWeight</th>\n",
       "      <th>crystallizationTempK</th>\n",
       "      <th>densityMatthews</th>\n",
       "      <th>densityPercentSol</th>\n",
       "      <th>phValue</th>\n",
       "      <th>sequence</th>\n",
       "      <th>3mers</th>\n",
       "    </tr>\n",
       "    <tr>\n",
       "      <th>structureId</th>\n",
       "      <th></th>\n",
       "      <th></th>\n",
       "      <th></th>\n",
       "      <th></th>\n",
       "      <th></th>\n",
       "      <th></th>\n",
       "      <th></th>\n",
       "      <th></th>\n",
       "      <th></th>\n",
       "      <th></th>\n",
       "    </tr>\n",
       "  </thead>\n",
       "  <tbody>\n",
       "    <tr>\n",
       "      <th>6FFL</th>\n",
       "      <td>SUGAR BINDING PROTEIN</td>\n",
       "      <td>388</td>\n",
       "      <td>1.71</td>\n",
       "      <td>44992.17</td>\n",
       "      <td>291.0</td>\n",
       "      <td>2.59</td>\n",
       "      <td>53.00</td>\n",
       "      <td>5.5</td>\n",
       "      <td>EDVRIQIWHQMIYGHRQVLAEALEKFEKENPGITVQATYRETEELR...</td>\n",
       "      <td>[EDV, VRI, IQI, IWH, HQM, MIY, YGH, HRQ, QVL, ...</td>\n",
       "    </tr>\n",
       "    <tr>\n",
       "      <th>6FG7</th>\n",
       "      <td>PROTEIN BINDING</td>\n",
       "      <td>500</td>\n",
       "      <td>1.90</td>\n",
       "      <td>56392.64</td>\n",
       "      <td>298.0</td>\n",
       "      <td>3.39</td>\n",
       "      <td>63.68</td>\n",
       "      <td>4.0</td>\n",
       "      <td>MKEIGSKPRKLLPLCFIIFLCFCSSVMAADEDDIRCLRGLKASLTD...</td>\n",
       "      <td>[MKE, EIG, GSK, KPR, RKL, LLP, PLC, CFI, IIF, ...</td>\n",
       "    </tr>\n",
       "    <tr>\n",
       "      <th>6FG8</th>\n",
       "      <td>PROTEIN BINDING</td>\n",
       "      <td>506</td>\n",
       "      <td>1.25</td>\n",
       "      <td>58478.36</td>\n",
       "      <td>298.0</td>\n",
       "      <td>1.86</td>\n",
       "      <td>33.78</td>\n",
       "      <td>5.5</td>\n",
       "      <td>MTRLTVLALLAGLLASSRAGSSMASANLEGDALHTLRVTLVDPNNV...</td>\n",
       "      <td>[MTR, RLT, TVL, LAL, LLA, AGL, LLA, ASS, SRA, ...</td>\n",
       "    </tr>\n",
       "    <tr>\n",
       "      <th>6FG8</th>\n",
       "      <td>PROTEIN BINDING</td>\n",
       "      <td>506</td>\n",
       "      <td>1.25</td>\n",
       "      <td>58478.36</td>\n",
       "      <td>298.0</td>\n",
       "      <td>1.86</td>\n",
       "      <td>33.78</td>\n",
       "      <td>5.5</td>\n",
       "      <td>MKKIFITLLWLLFISSFLCSSSSAEDDVLCLQGLKNSLIDPSSRLS...</td>\n",
       "      <td>[MKK, KIF, FIT, TLL, LWL, LLF, FIS, SSF, FLC, ...</td>\n",
       "    </tr>\n",
       "    <tr>\n",
       "      <th>6FIF</th>\n",
       "      <td>PROTEIN BINDING</td>\n",
       "      <td>837</td>\n",
       "      <td>2.54</td>\n",
       "      <td>93918.31</td>\n",
       "      <td>298.0</td>\n",
       "      <td>3.32</td>\n",
       "      <td>62.96</td>\n",
       "      <td>4.0</td>\n",
       "      <td>MKTFSSFFLSVTTLFFFSFFSLSFQASPSQSLYREIHQLISFKDVL...</td>\n",
       "      <td>[MKT, TFS, SSF, FFL, LSV, VTT, TLF, FFF, FSF, ...</td>\n",
       "    </tr>\n",
       "  </tbody>\n",
       "</table>\n",
       "</div>"
      ],
      "text/plain": [
       "                    classification  residueCount  resolution  \\\n",
       "structureId                                                    \n",
       "6FFL         SUGAR BINDING PROTEIN           388        1.71   \n",
       "6FG7               PROTEIN BINDING           500        1.90   \n",
       "6FG8               PROTEIN BINDING           506        1.25   \n",
       "6FG8               PROTEIN BINDING           506        1.25   \n",
       "6FIF               PROTEIN BINDING           837        2.54   \n",
       "\n",
       "             structureMolecularWeight  crystallizationTempK  densityMatthews  \\\n",
       "structureId                                                                    \n",
       "6FFL                         44992.17                 291.0             2.59   \n",
       "6FG7                         56392.64                 298.0             3.39   \n",
       "6FG8                         58478.36                 298.0             1.86   \n",
       "6FG8                         58478.36                 298.0             1.86   \n",
       "6FIF                         93918.31                 298.0             3.32   \n",
       "\n",
       "             densityPercentSol  phValue  \\\n",
       "structureId                               \n",
       "6FFL                     53.00      5.5   \n",
       "6FG7                     63.68      4.0   \n",
       "6FG8                     33.78      5.5   \n",
       "6FG8                     33.78      5.5   \n",
       "6FIF                     62.96      4.0   \n",
       "\n",
       "                                                      sequence  \\\n",
       "structureId                                                      \n",
       "6FFL         EDVRIQIWHQMIYGHRQVLAEALEKFEKENPGITVQATYRETEELR...   \n",
       "6FG7         MKEIGSKPRKLLPLCFIIFLCFCSSVMAADEDDIRCLRGLKASLTD...   \n",
       "6FG8         MTRLTVLALLAGLLASSRAGSSMASANLEGDALHTLRVTLVDPNNV...   \n",
       "6FG8         MKKIFITLLWLLFISSFLCSSSSAEDDVLCLQGLKNSLIDPSSRLS...   \n",
       "6FIF         MKTFSSFFLSVTTLFFFSFFSLSFQASPSQSLYREIHQLISFKDVL...   \n",
       "\n",
       "                                                         3mers  \n",
       "structureId                                                     \n",
       "6FFL         [EDV, VRI, IQI, IWH, HQM, MIY, YGH, HRQ, QVL, ...  \n",
       "6FG7         [MKE, EIG, GSK, KPR, RKL, LLP, PLC, CFI, IIF, ...  \n",
       "6FG8         [MTR, RLT, TVL, LAL, LLA, AGL, LLA, ASS, SRA, ...  \n",
       "6FG8         [MKK, KIF, FIT, TLL, LWL, LLF, FIS, SSF, FLC, ...  \n",
       "6FIF         [MKT, TFS, SSF, FFL, LSV, VTT, TLF, FFF, FSF, ...  "
      ]
     },
     "execution_count": 20,
     "metadata": {},
     "output_type": "execute_result"
    }
   ],
   "source": [
    "data.tail()"
   ]
  },
  {
   "cell_type": "code",
   "execution_count": 21,
   "id": "146580dd-3e31-4963-9656-7b2723fb9d19",
   "metadata": {},
   "outputs": [],
   "source": [
    "data.to_csv(\"./data/protein_classification_46k_ngrams.csv\")"
   ]
  },
  {
   "cell_type": "code",
   "execution_count": 48,
   "id": "3fdddbc8-14d9-49da-8eca-d75c95d72711",
   "metadata": {},
   "outputs": [],
   "source": [
    "X = data['sequence']\n",
    "y = data['classification']\n",
    "\n",
    "from sklearn.preprocessing import LabelEncoder\n",
    "le = LabelEncoder()\n",
    "y = le.fit_transform(y)\n",
    "class_names = le.classes_\n",
    "n_classes = len(class_names)\n",
    "\n",
    "X_train, X_test, y_train,y_test = train_test_split(X, y, test_size=0.2, random_state=42)\n",
    "X_train, X_val, y_train, y_val = train_test_split(X_train, y_train, test_size=0.1, random_state=42)"
   ]
  },
  {
   "cell_type": "code",
   "execution_count": 49,
   "id": "f1a53dce-f463-4036-bf18-7b27b797e277",
   "metadata": {},
   "outputs": [
    {
     "data": {
      "text/plain": [
       "structureId\n",
       "3MGA    SNAMKEALATGSEAWWRTKTGPEWIREKDGNYRVTFWWRDPQGNET...\n",
       "2ZAG    GPLLAQSAKSMRTTEIETSGWEDALKWLRENTPEYSTATSWWDYGY...\n",
       "4U0O    MALSRPLPSWLRKPLGKASEISTVQRLVRQYGIHTICEEGRCPNRG...\n",
       "2A4V    SSDVNELEIGDPIPDLSLLNEDNDSISLKKITENNRVVVFFVYPRA...\n",
       "3WAL    GSPEFPSDRPFKQRRSFADRCKEVQQIRDQHPSKIPVIIERYKGEK...\n",
       "                              ...                        \n",
       "3KML    GANPTTAETLDATRRVDDATVAIRCAINNLIVELIRGTGSYNRSSF...\n",
       "1P4X    MKYNNHDKIRDFIIIEAYMFRFKKKVKPEVDMTIKEFILLTYLFHQ...\n",
       "3WL8    AGAGADRTAATPAAANPAATEPVKWECPAGYEVKEGLNVDFPHKGM...\n",
       "2PLM    MIIGNCLILKDFSSEPFWGAVEIENGTIKRVLQGEVKVDLDLSGKL...\n",
       "3FJW    ATCDDGRTTANAACCILFPILDDIQENLFDGAQCGEEVHESLRLTF...\n",
       "Name: sequence, Length: 33423, dtype: object"
      ]
     },
     "execution_count": 49,
     "metadata": {},
     "output_type": "execute_result"
    }
   ],
   "source": [
    "X_train"
   ]
  },
  {
   "cell_type": "code",
   "execution_count": 50,
   "id": "066b7e09-1c76-48be-a2d4-792f2c979c00",
   "metadata": {},
   "outputs": [
    {
     "data": {
      "text/plain": [
       "array([ 7, 27, 27, ...,  7, 30, 15])"
      ]
     },
     "execution_count": 50,
     "metadata": {},
     "output_type": "execute_result"
    }
   ],
   "source": [
    "y_train"
   ]
  },
  {
   "cell_type": "code",
   "execution_count": 51,
   "id": "5d1f9780-cef4-4f18-aab6-497807155ca9",
   "metadata": {},
   "outputs": [],
   "source": [
    "vect = CountVectorizer(analyzer = 'char_wb', ngram_range = (4,4))\n",
    "vect.fit(X_train)\n",
    "X_train_df = vect.transform(X_train)\n",
    "X_test_df = vect.transform(X_test)"
   ]
  },
  {
   "cell_type": "code",
   "execution_count": 52,
   "id": "20564196-6e80-4f77-88eb-faca1c6fce6d",
   "metadata": {},
   "outputs": [
    {
     "name": "stdout",
     "output_type": "stream",
     "text": [
      "0.5598276790522347\n"
     ]
    }
   ],
   "source": [
    "prediction = dict()\n",
    "\n",
    "from sklearn.naive_bayes import MultinomialNB\n",
    "model = MultinomialNB()\n",
    "model.fit(X_train_df, y_train)\n",
    "NB_pred = model.predict(X_test_df)\n",
    "prediction[\"MultinomialNB\"] = accuracy_score(NB_pred, y_test)\n",
    "print( prediction['MultinomialNB'])"
   ]
  },
  {
   "cell_type": "code",
   "execution_count": 53,
   "id": "6d45fe31-894b-4244-bf12-4997018be928",
   "metadata": {},
   "outputs": [
    {
     "name": "stdout",
     "output_type": "stream",
     "text": [
      "0.2230479267635972\n"
     ]
    }
   ],
   "source": [
    "from sklearn.ensemble import AdaBoostClassifier\n",
    "model = AdaBoostClassifier()\n",
    "model.fit(X_train_df,y_train)\n",
    "ADA_pred = model.predict(X_test_df)\n",
    "prediction[\"Adaboost\"] = accuracy_score(ADA_pred , y_test)\n",
    "print(prediction[\"Adaboost\"])"
   ]
  },
  {
   "cell_type": "code",
   "execution_count": 54,
   "id": "ab0ad979-bba3-4b22-99d8-2d722df337d0",
   "metadata": {},
   "outputs": [
    {
     "data": {
      "text/plain": [
       "array([ 0, 27, 29, ...,  7, 18, 15])"
      ]
     },
     "execution_count": 54,
     "metadata": {},
     "output_type": "execute_result"
    }
   ],
   "source": [
    "NB_pred"
   ]
  },
  {
   "cell_type": "code",
   "execution_count": 55,
   "id": "cd73e55b-f17e-4eb0-b0e1-86560db4b7cd",
   "metadata": {},
   "outputs": [
    {
     "data": {
      "text/plain": [
       "array([ 4,  2, 19, ...,  9, 18, 22])"
      ]
     },
     "execution_count": 55,
     "metadata": {},
     "output_type": "execute_result"
    }
   ],
   "source": [
    "y_test"
   ]
  },
  {
   "cell_type": "code",
   "execution_count": 56,
   "id": "998bdd74-4a8c-44ad-9ead-9dc4468006a0",
   "metadata": {},
   "outputs": [
    {
     "data": {
      "text/plain": [
       "<Axes: >"
      ]
     },
     "execution_count": 56,
     "metadata": {},
     "output_type": "execute_result"
    },
    {
     "data": {
      "image/png": "[encoded data removed]",
      "text/plain": [
       "<Figure size 1300x800 with 2 Axes>"
      ]
     },
     "metadata": {},
     "output_type": "display_data"
    }
   ],
   "source": [
    "conf_mat = confusion_matrix(y_test, NB_pred)\n",
    "conf_mat = conf_mat.astype('float')/ conf_mat.sum(axis=1)[:, np.newaxis]\n",
    "fig , ax = plt.subplots()\n",
    "fig.set_size_inches(13, 8)\n",
    "sns.heatmap(conf_mat, cmap=\"Blues\")"
   ]
  },
  {
   "cell_type": "code",
   "execution_count": 57,
   "id": "70ec731f-263c-4aec-ac4a-6f74c33842c9",
   "metadata": {},
   "outputs": [
    {
     "name": "stdout",
     "output_type": "stream",
     "text": [
      "                                         precision    recall  f1-score   support\n",
      "\n",
      "                              HYDROLASE       0.54      0.43      0.48       138\n",
      "                            TRANSFERASE       0.54      0.26      0.35        81\n",
      "                         OXIDOREDUCTASE       0.60      0.39      0.47        97\n",
      "                          IMMUNE SYSTEM       0.69      0.49      0.58        77\n",
      "          HYDROLASE/HYDROLASE INHIBITOR       0.54      0.29      0.38       106\n",
      "                                  LYASE       0.64      0.60      0.62       114\n",
      "                          TRANSCRIPTION       0.41      0.39      0.40        36\n",
      "                      TRANSPORT PROTEIN       0.54      0.68      0.60      1712\n",
      "                              ISOMERASE       0.39      0.48      0.43       268\n",
      "                          VIRAL PROTEIN       0.90      0.69      0.78       812\n",
      "                      SIGNALING PROTEIN       0.83      0.56      0.67       234\n",
      "                                 LIGASE       0.74      0.50      0.60       228\n",
      "                        PROTEIN BINDING       0.82      0.63      0.71       369\n",
      "  STRUCTURAL GENOMICS, UNKNOWN FUNCTION       0.58      0.38      0.46       159\n",
      "      TRANSFERASE/TRANSFERASE INHIBITOR       0.55      0.36      0.44       118\n",
      "                       MEMBRANE PROTEIN       0.62      0.70      0.66      1055\n",
      "                  SUGAR BINDING PROTEIN       0.24      0.37      0.29        51\n",
      "                       UNKNOWN FUNCTION       0.49      0.38      0.43        58\n",
      "                    DNA BINDING PROTEIN       0.28      0.22      0.25       222\n",
      "                              CHAPERONE       0.57      0.45      0.50       128\n",
      "                     STRUCTURAL PROTEIN       0.47      0.32      0.38        77\n",
      "                  METAL BINDING PROTEIN       0.53      0.40      0.46       276\n",
      "                          CELL ADHESION       0.14      0.08      0.10       234\n",
      "                     ELECTRON TRANSPORT       0.55      0.41      0.47       113\n",
      "                      PROTEIN TRANSPORT       0.65      0.53      0.58        97\n",
      "OXIDOREDUCTASE/OXIDOREDUCTASE INHIBITOR       0.51      0.60      0.55        78\n",
      "                                  TOXIN       0.56      0.45      0.50       299\n",
      "                    RNA BINDING PROTEIN       0.47      0.65      0.55      1253\n",
      "                             CELL CYCLE       0.33      0.54      0.41       142\n",
      "                         PHOTOSYNTHESIS       0.56      0.44      0.50       295\n",
      "                        GENE REGULATION       0.35      0.18      0.24       152\n",
      "                        DE NOVO PROTEIN       0.72      0.63      0.67       206\n",
      "\n",
      "                               accuracy                           0.56      9285\n",
      "                              macro avg       0.54      0.45      0.48      9285\n",
      "                           weighted avg       0.57      0.56      0.56      9285\n",
      "\n"
     ]
    }
   ],
   "source": [
    "print(classification_report(y_test, NB_pred, target_names = types))"
   ]
  },
  {
   "cell_type": "code",
   "execution_count": 58,
   "id": "3ca8f667-986c-4fc6-87d8-251d6a54009e",
   "metadata": {},
   "outputs": [
    {
     "data": {
      "text/plain": [
       "(33423,)"
      ]
     },
     "execution_count": 58,
     "metadata": {},
     "output_type": "execute_result"
    }
   ],
   "source": [
    "X_train.shape"
   ]
  },
  {
   "cell_type": "code",
   "execution_count": 59,
   "id": "ea20b6a7-79d2-42ac-8909-a71446bf9dc5",
   "metadata": {},
   "outputs": [
    {
     "data": {
      "text/plain": [
       "structureId\n",
       "3MGA    SNAMKEALATGSEAWWRTKTGPEWIREKDGNYRVTFWWRDPQGNET...\n",
       "2ZAG    GPLLAQSAKSMRTTEIETSGWEDALKWLRENTPEYSTATSWWDYGY...\n",
       "4U0O    MALSRPLPSWLRKPLGKASEISTVQRLVRQYGIHTICEEGRCPNRG...\n",
       "2A4V    SSDVNELEIGDPIPDLSLLNEDNDSISLKKITENNRVVVFFVYPRA...\n",
       "3WAL    GSPEFPSDRPFKQRRSFADRCKEVQQIRDQHPSKIPVIIERYKGEK...\n",
       "                              ...                        \n",
       "3KML    GANPTTAETLDATRRVDDATVAIRCAINNLIVELIRGTGSYNRSSF...\n",
       "1P4X    MKYNNHDKIRDFIIIEAYMFRFKKKVKPEVDMTIKEFILLTYLFHQ...\n",
       "3WL8    AGAGADRTAATPAAANPAATEPVKWECPAGYEVKEGLNVDFPHKGM...\n",
       "2PLM    MIIGNCLILKDFSSEPFWGAVEIENGTIKRVLQGEVKVDLDLSGKL...\n",
       "3FJW    ATCDDGRTTANAACCILFPILDDIQENLFDGAQCGEEVHESLRLTF...\n",
       "Name: sequence, Length: 33423, dtype: object"
      ]
     },
     "execution_count": 59,
     "metadata": {},
     "output_type": "execute_result"
    }
   ],
   "source": [
    "X_train"
   ]
  },
  {
   "cell_type": "code",
   "execution_count": 60,
   "id": "c8753c66-7eae-4bbc-9759-f79af104654e",
   "metadata": {},
   "outputs": [
    {
     "data": {
      "text/plain": [
       "array([ 7, 27, 27, ...,  7, 30, 15])"
      ]
     },
     "execution_count": 60,
     "metadata": {},
     "output_type": "execute_result"
    }
   ],
   "source": [
    "y_train"
   ]
  },
  {
   "cell_type": "code",
   "execution_count": 61,
   "id": "c2bd7f34-3e97-4b31-bb5f-24a4df060b6c",
   "metadata": {},
   "outputs": [],
   "source": [
    "# from sklearn.preprocessing import LabelEncoder\n",
    "# le = LabelEncoder()\n",
    "# y_train = le.fit_transform(y_train)\n",
    "# y_test = le.transform(y_test)\n",
    "# class_names = le.classes_\n",
    "# y_train"
   ]
  },
  {
   "cell_type": "code",
   "execution_count": 62,
   "id": "a09ecb4d-858f-460c-94ec-421b25e95922",
   "metadata": {},
   "outputs": [
    {
     "data": {
      "text/plain": [
       "array(['CELL ADHESION', 'CELL CYCLE', 'CHAPERONE', 'DE NOVO PROTEIN',\n",
       "       'DNA BINDING PROTEIN', 'ELECTRON TRANSPORT', 'GENE REGULATION',\n",
       "       'HYDROLASE', 'HYDROLASE/HYDROLASE INHIBITOR', 'IMMUNE SYSTEM',\n",
       "       'ISOMERASE', 'LIGASE', 'LYASE', 'MEMBRANE PROTEIN',\n",
       "       'METAL BINDING PROTEIN', 'OXIDOREDUCTASE',\n",
       "       'OXIDOREDUCTASE/OXIDOREDUCTASE INHIBITOR', 'PHOTOSYNTHESIS',\n",
       "       'PROTEIN BINDING', 'PROTEIN TRANSPORT', 'RNA BINDING PROTEIN',\n",
       "       'SIGNALING PROTEIN', 'STRUCTURAL GENOMICS, UNKNOWN FUNCTION',\n",
       "       'STRUCTURAL PROTEIN', 'SUGAR BINDING PROTEIN', 'TOXIN',\n",
       "       'TRANSCRIPTION', 'TRANSFERASE',\n",
       "       'TRANSFERASE/TRANSFERASE INHIBITOR', 'TRANSPORT PROTEIN',\n",
       "       'UNKNOWN FUNCTION', 'VIRAL PROTEIN'], dtype=object)"
      ]
     },
     "execution_count": 62,
     "metadata": {},
     "output_type": "execute_result"
    }
   ],
   "source": [
    "class_names"
   ]
  },
  {
   "cell_type": "code",
   "execution_count": 63,
   "id": "dc478eac-f94e-48a4-9145-36bb7fb7b4af",
   "metadata": {},
   "outputs": [],
   "source": [
    "# n_classes = len(class_names)"
   ]
  },
  {
   "cell_type": "code",
   "execution_count": 64,
   "id": "15f30dd9-1434-40dc-8ed2-705fe91af2e8",
   "metadata": {},
   "outputs": [
    {
     "data": {
      "text/plain": [
       "32"
      ]
     },
     "execution_count": 64,
     "metadata": {},
     "output_type": "execute_result"
    }
   ],
   "source": [
    "n_classes"
   ]
  },
  {
   "cell_type": "code",
   "execution_count": 65,
   "id": "754f6d4d-4466-4412-9fe5-81e95aa4e616",
   "metadata": {},
   "outputs": [
    {
     "name": "stdout",
     "output_type": "stream",
     "text": [
      "Average character length: 272.19\n"
     ]
    }
   ],
   "source": [
    "avg_char_len = X_train.str.len().mean()\n",
    "print(f\"Average character length: {avg_char_len:.2f}\")"
   ]
  },
  {
   "cell_type": "code",
   "execution_count": 66,
   "id": "3d171d00-22c3-48a3-ac77-51ffaaa32c86",
   "metadata": {},
   "outputs": [],
   "source": [
    "import tensorflow as tf\n",
    "from tensorflow.keras.layers import TextVectorization\n",
    "\n",
    "max_vocab_length = 25\n",
    "max_length = 300\n",
    "\n",
    "text_vectorizer = TextVectorization(max_tokens=max_vocab_length,\n",
    "                                    split=\"character\",\n",
    "                                    ngrams=None,\n",
    "                                    output_mode=\"int\",\n",
    "                                    output_sequence_length=max_length)"
   ]
  },
  {
   "cell_type": "code",
   "execution_count": 67,
   "id": "d60a36b4-8120-464a-bd89-64f2e03cd639",
   "metadata": {},
   "outputs": [],
   "source": [
    "text_vectorizer.adapt(X_train)"
   ]
  },
  {
   "cell_type": "code",
   "execution_count": 68,
   "id": "93b43aa4-49e3-4bb1-a06b-5e80e7d5a950",
   "metadata": {},
   "outputs": [
    {
     "name": "stdout",
     "output_type": "stream",
     "text": [
      "Original text:\n",
      "APQECSDIAFLIDGSGSIIPHDFRRMKEFVSTVMEQLKKSKTLFSLMQYSEEFRIHFTFKEFQNNPNPRSLVKPITQLLGRTHTATGIRKVVRELFNITNGARKNAFKILVVITDGEKFGDPLGYEDVIPEADREGVIRYVIGVGDAFRSEKSRQELNTIASKPPRDHVFQVNNFEALKTIQNQLRECIFAI      \n",
      "\n",
      "Vectorized version:\n"
     ]
    },
    {
     "name": "stderr",
     "output_type": "stream",
     "text": [
      "C:\\Users\\user\\anaconda3\\envs\\tf-gpu\\lib\\random.py:378: FutureWarning: Series.__getitem__ treating keys as positions is deprecated. In a future version, integer keys will always be treated as labels (consistent with DataFrame behavior). To access a value by position, use `ser.iloc[pos]`\n",
      "  return seq[self._randbelow(len(seq))]\n"
     ]
    },
    {
     "data": {
      "text/plain": [
       "<tf.Tensor: shape=(1, 300), dtype=int64, numpy=\n",
       "array([[ 3, 13, 16,  6, 21,  7,  8, 11,  3, 15,  2, 11,  8,  4,  7,  4,\n",
       "         7, 11, 11, 13, 18,  8, 15, 12, 12, 19,  9,  6, 15,  5,  7, 10,\n",
       "         5, 19,  6, 16,  2,  9,  9,  7,  9, 10,  2, 15,  7,  2, 19, 16,\n",
       "        17,  7,  6,  6, 15, 12, 11, 18, 15, 10, 15,  9,  6, 15, 16, 14,\n",
       "        14, 13, 14, 13, 12,  7,  2,  5,  9, 13, 11, 10, 16,  2,  2,  4,\n",
       "        12, 10, 18, 10,  3, 10,  4, 11, 12,  9,  5,  5, 12,  6,  2, 15,\n",
       "        14, 11, 10, 14,  4,  3, 12,  9, 14,  3, 15,  9, 11,  2,  5,  5,\n",
       "        11, 10,  8,  4,  6,  9, 15,  4,  8, 13,  2,  4, 17,  6,  8,  5,\n",
       "        11, 13,  6,  3,  8, 12,  6,  4,  5, 11, 12, 17,  5, 11,  4,  5,\n",
       "         4,  8,  3, 15, 12,  7,  6,  9,  7, 12, 16,  6,  2, 14, 10, 11,\n",
       "         3,  7,  9, 13, 13, 12,  8, 18,  5, 15, 16,  5, 14, 14, 15,  6,\n",
       "         3,  2,  9, 10, 11, 16, 14, 16,  2, 12,  6, 21, 11, 15,  3, 11,\n",
       "         0,  0,  0,  0,  0,  0,  0,  0,  0,  0,  0,  0,  0,  0,  0,  0,\n",
       "         0,  0,  0,  0,  0,  0,  0,  0,  0,  0,  0,  0,  0,  0,  0,  0,\n",
       "         0,  0,  0,  0,  0,  0,  0,  0,  0,  0,  0,  0,  0,  0,  0,  0,\n",
       "         0,  0,  0,  0,  0,  0,  0,  0,  0,  0,  0,  0,  0,  0,  0,  0,\n",
       "         0,  0,  0,  0,  0,  0,  0,  0,  0,  0,  0,  0,  0,  0,  0,  0,\n",
       "         0,  0,  0,  0,  0,  0,  0,  0,  0,  0,  0,  0,  0,  0,  0,  0,\n",
       "         0,  0,  0,  0,  0,  0,  0,  0,  0,  0,  0,  0]], dtype=int64)>"
      ]
     },
     "execution_count": 68,
     "metadata": {},
     "output_type": "execute_result"
    }
   ],
   "source": [
    "import random\n",
    "\n",
    "random_seq = random.choice(X_train)\n",
    "print(f\"Original text:\\n{random_seq}\\\n",
    "      \\n\\nVectorized version:\")\n",
    "text_vectorizer([random_seq])"
   ]
  },
  {
   "cell_type": "code",
   "execution_count": 69,
   "id": "52bb2b1d-580f-4d67-85a7-56f8b0282d94",
   "metadata": {},
   "outputs": [
    {
     "name": "stdout",
     "output_type": "stream",
     "text": [
      "Number of words in vocab: 25\n",
      "Top 5 most common words: ['', '[UNK]', 'l', 'a', 'g']\n",
      "Bottom 5 least common words: ['w', 'c', 'x', 'z', 'b']\n"
     ]
    }
   ],
   "source": [
    "words_in_vocab = text_vectorizer.get_vocabulary()\n",
    "top_5_words = words_in_vocab[:5] # most common tokens (notice the [UNK] token for \"unknown\" words)\n",
    "bottom_5_words = words_in_vocab[-5:] # least common tokens\n",
    "print(f\"Number of words in vocab: {len(words_in_vocab)}\")\n",
    "print(f\"Top 5 most common words: {top_5_words}\") \n",
    "print(f\"Bottom 5 least common words: {bottom_5_words}\")"
   ]
  },
  {
   "cell_type": "code",
   "execution_count": 86,
   "id": "30ec970a-47a5-45f6-a579-a6bc4cc45d28",
   "metadata": {},
   "outputs": [
    {
     "data": {
      "text/plain": [
       "<keras.layers.core.embedding.Embedding at 0x1b0091e8a30>"
      ]
     },
     "execution_count": 86,
     "metadata": {},
     "output_type": "execute_result"
    }
   ],
   "source": [
    "tf.random.set_seed(42)\n",
    "from tensorflow.keras import layers\n",
    "\n",
    "embedding = layers.Embedding(input_dim=max_vocab_length, # set input shape\n",
    "                             output_dim=128, # set size of embedding vector\n",
    "                             embeddings_initializer=\"uniform\", # default, intialize randomly\n",
    "                             input_length=max_length, # how long is each input\n",
    "                             name=\"embedding_1\") \n",
    "\n",
    "embedding"
   ]
  },
  {
   "cell_type": "code",
   "execution_count": 87,
   "id": "b2c40998-c51e-4359-9b87-4dfab0ede147",
   "metadata": {},
   "outputs": [
    {
     "name": "stdout",
     "output_type": "stream",
     "text": [
      "Original text:\n",
      "NNYTSLIHSLIEESQNQQEKNEQELLELDKWASLWNWFN      \n",
      "\n",
      "Embedded version:\n"
     ]
    },
    {
     "name": "stderr",
     "output_type": "stream",
     "text": [
      "C:\\Users\\user\\anaconda3\\envs\\tf-gpu\\lib\\random.py:378: FutureWarning: Series.__getitem__ treating keys as positions is deprecated. In a future version, integer keys will always be treated as labels (consistent with DataFrame behavior). To access a value by position, use `ser.iloc[pos]`\n",
      "  return seq[self._randbelow(len(seq))]\n"
     ]
    },
    {
     "data": {
      "text/plain": [
       "<tf.Tensor: shape=(1, 300, 128), dtype=float32, numpy=\n",
       "array([[[-0.02885788, -0.04959565, -0.03080794, ..., -0.04485593,\n",
       "          0.01380679,  0.03816568],\n",
       "        [-0.02885788, -0.04959565, -0.03080794, ..., -0.04485593,\n",
       "          0.01380679,  0.03816568],\n",
       "        [ 0.03624717, -0.00105458,  0.00343116, ...,  0.01587262,\n",
       "          0.03561984,  0.03777193],\n",
       "        ...,\n",
       "        [-0.02431896, -0.00030115,  0.03215406, ..., -0.00435723,\n",
       "          0.00664058, -0.01122534],\n",
       "        [-0.02431896, -0.00030115,  0.03215406, ..., -0.00435723,\n",
       "          0.00664058, -0.01122534],\n",
       "        [-0.02431896, -0.00030115,  0.03215406, ..., -0.00435723,\n",
       "          0.00664058, -0.01122534]]], dtype=float32)>"
      ]
     },
     "execution_count": 87,
     "metadata": {},
     "output_type": "execute_result"
    }
   ],
   "source": [
    "# Get a random sentence from training set\n",
    "random_seq = random.choice(X_train)\n",
    "print(f\"Original text:\\n{random_seq}\\\n",
    "      \\n\\nEmbedded version:\")\n",
    "\n",
    "# Embed the random sentence (turn it into numerical representation)\n",
    "sample_embed = embedding(text_vectorizer([random_seq]))\n",
    "sample_embed"
   ]
  },
  {
   "cell_type": "code",
   "execution_count": 72,
   "id": "b068b916-d9e5-49dc-9217-6390acf94e37",
   "metadata": {},
   "outputs": [],
   "source": [
    "from sklearn.metrics import accuracy_score, precision_recall_fscore_support\n",
    "\n",
    "def calculate_results(y_true, y_pred):\n",
    "  \"\"\"\n",
    "  Calculates model accuracy, precision, recall and f1 score of a binary classification model.\n",
    "\n",
    "  Args:\n",
    "  -----\n",
    "  y_true = true labels in the form of a 1D array\n",
    "  y_pred = predicted labels in the form of a 1D array\n",
    "\n",
    "  Returns a dictionary of accuracy, precision, recall, f1-score.\n",
    "  \"\"\"\n",
    "  # Calculate model accuracy\n",
    "  model_accuracy = accuracy_score(y_true, y_pred)\n",
    "  # Calculate model precision, recall and f1 score using \"weighted\" average\n",
    "  model_precision, model_recall, model_f1, _ = precision_recall_fscore_support(y_true, y_pred, average=\"weighted\")\n",
    "  model_results = {\"accuracy\": model_accuracy,\n",
    "                  \"precision\": model_precision,\n",
    "                  \"recall\": model_recall,\n",
    "                  \"f1\": model_f1}\n",
    "  return model_results"
   ]
  },
  {
   "cell_type": "code",
   "execution_count": 73,
   "id": "5122716b-79da-4fc8-adb4-981bb84179a9",
   "metadata": {},
   "outputs": [
    {
     "data": {
      "text/plain": [
       "array([ 4,  2, 19, ...,  9, 18, 22])"
      ]
     },
     "execution_count": 73,
     "metadata": {},
     "output_type": "execute_result"
    }
   ],
   "source": [
    "y_test"
   ]
  },
  {
   "cell_type": "code",
   "execution_count": 74,
   "id": "45e88630-4526-4e9b-8b75-88c77a776cc3",
   "metadata": {},
   "outputs": [],
   "source": [
    "y_test_str = [class_names[y] for y in y_test]"
   ]
  },
  {
   "cell_type": "code",
   "execution_count": 76,
   "id": "969b4dc7-6f68-4d32-aa8e-21c1b994f524",
   "metadata": {},
   "outputs": [
    {
     "data": {
      "text/plain": [
       "{'accuracy': 0.5598276790522347,\n",
       " 'precision': 0.5746849313437242,\n",
       " 'recall': 0.5598276790522347,\n",
       " 'f1': 0.5561280904964762}"
      ]
     },
     "execution_count": 76,
     "metadata": {},
     "output_type": "execute_result"
    }
   ],
   "source": [
    "baseline_results = calculate_results(y_true=y_test,\n",
    "                                     y_pred=NB_pred)\n",
    "baseline_results"
   ]
  },
  {
   "cell_type": "code",
   "execution_count": 141,
   "id": "f0d516b9-6ba8-47f6-8526-20609e3644fa",
   "metadata": {},
   "outputs": [],
   "source": [
    "from tensorflow.keras import layers\n",
    "inputs = layers.Input(shape=(1,), dtype=\"string\")\n",
    "x = text_vectorizer(inputs)\n",
    "x = embedding(x)\n",
    "x = layers.Bidirectional(layers.LSTM(128, return_sequences=True))(x)\n",
    "x = layers.Bidirectional(layers.LSTM(128))(x)\n",
    "\n",
    "x = layers.Dense(256, activation=\"relu\")(x)\n",
    "x = layers.Dense(128, activation=\"relu\")(x)\n",
    "x = layers.Dense(64, activation=\"relu\")(x)\n",
    "\n",
    "outputs = layers.Dense(n_classes, activation=\"softmax\")(x)\n",
    "model = tf.keras.Model(inputs, outputs)\n",
    "\n",
    "model.compile(loss=tf.keras.losses.SparseCategoricalCrossentropy(),\n",
    "                optimizer=tf.keras.optimizers.Adam(),\n",
    "                metrics=[\"accuracy\"])"
   ]
  },
  {
   "cell_type": "code",
   "execution_count": 142,
   "id": "70ce0bc8-9ea9-4044-9c96-1e91feca9539",
   "metadata": {},
   "outputs": [
    {
     "name": "stdout",
     "output_type": "stream",
     "text": [
      "Model: \"model_2\"\n",
      "_________________________________________________________________\n",
      " Layer (type)                Output Shape              Param #   \n",
      "=================================================================\n",
      " input_3 (InputLayer)        [(None, 1)]               0         \n",
      "                                                                 \n",
      " text_vectorization_1 (TextV  (None, 300)              0         \n",
      " ectorization)                                                   \n",
      "                                                                 \n",
      " embedding_1 (Embedding)     (None, 300, 128)          3200      \n",
      "                                                                 \n",
      " bidirectional_4 (Bidirectio  (None, 300, 256)         263168    \n",
      " nal)                                                            \n",
      "                                                                 \n",
      " bidirectional_5 (Bidirectio  (None, 256)              394240    \n",
      " nal)                                                            \n",
      "                                                                 \n",
      " dense_8 (Dense)             (None, 256)               65792     \n",
      "                                                                 \n",
      " dense_9 (Dense)             (None, 128)               32896     \n",
      "                                                                 \n",
      " dense_10 (Dense)            (None, 64)                8256      \n",
      "                                                                 \n",
      " dense_11 (Dense)            (None, 32)                2080      \n",
      "                                                                 \n",
      "=================================================================\n",
      "Total params: 769,632\n",
      "Trainable params: 769,632\n",
      "Non-trainable params: 0\n",
      "_________________________________________________________________\n"
     ]
    }
   ],
   "source": [
    "model.summary()"
   ]
  },
  {
   "cell_type": "code",
   "execution_count": 143,
   "id": "3901d1e1-c63b-4fe0-8978-27725f4f8ae5",
   "metadata": {},
   "outputs": [
    {
     "name": "stdout",
     "output_type": "stream",
     "text": [
      "Epoch 1/20\n",
      "1045/1045 [==============================] - 106s 99ms/step - loss: 2.7725 - accuracy: 0.2202 - val_loss: 2.6324 - val_accuracy: 0.2324\n",
      "Epoch 2/20\n",
      "1045/1045 [==============================] - 103s 99ms/step - loss: 2.6242 - accuracy: 0.2493 - val_loss: 2.5665 - val_accuracy: 0.2711\n",
      "Epoch 3/20\n",
      "1045/1045 [==============================] - 101s 97ms/step - loss: 2.5067 - accuracy: 0.2815 - val_loss: 2.4454 - val_accuracy: 0.2978\n",
      "Epoch 4/20\n",
      "1045/1045 [==============================] - 103s 99ms/step - loss: 2.4077 - accuracy: 0.3046 - val_loss: 2.3503 - val_accuracy: 0.3158\n",
      "Epoch 5/20\n",
      "1045/1045 [==============================] - 102s 98ms/step - loss: 2.3128 - accuracy: 0.3331 - val_loss: 2.2844 - val_accuracy: 0.3266\n",
      "Epoch 6/20\n",
      "1045/1045 [==============================] - 103s 98ms/step - loss: 2.2106 - accuracy: 0.3601 - val_loss: 2.2170 - val_accuracy: 0.3605\n",
      "Epoch 7/20\n",
      "1045/1045 [==============================] - 102s 97ms/step - loss: 2.0873 - accuracy: 0.3929 - val_loss: 2.1895 - val_accuracy: 0.3630\n",
      "Epoch 8/20\n",
      "1045/1045 [==============================] - 100s 96ms/step - loss: 1.9691 - accuracy: 0.4255 - val_loss: 2.1566 - val_accuracy: 0.3891\n",
      "Epoch 9/20\n",
      "1045/1045 [==============================] - 101s 97ms/step - loss: 1.8528 - accuracy: 0.4565 - val_loss: 2.1600 - val_accuracy: 0.3837\n",
      "Epoch 10/20\n",
      "1045/1045 [==============================] - 101s 97ms/step - loss: 1.7319 - accuracy: 0.4869 - val_loss: 2.1143 - val_accuracy: 0.4114\n",
      "Epoch 11/20\n",
      "1045/1045 [==============================] - 100s 96ms/step - loss: 1.5990 - accuracy: 0.5254 - val_loss: 2.1378 - val_accuracy: 0.4152\n",
      "Epoch 12/20\n",
      "1045/1045 [==============================] - 100s 96ms/step - loss: 1.4802 - accuracy: 0.5557 - val_loss: 2.1955 - val_accuracy: 0.4241\n",
      "Epoch 13/20\n",
      "1045/1045 [==============================] - 102s 97ms/step - loss: 1.3492 - accuracy: 0.5938 - val_loss: 2.2285 - val_accuracy: 0.4190\n"
     ]
    }
   ],
   "source": [
    "early_stop = tf.keras.callbacks.EarlyStopping(patience=3, restore_best_weights=True)\n",
    "history = model.fit(X_train, y_train, epochs=20, validation_data=(X_val, y_val), callbacks=[early_stop])"
   ]
  },
  {
   "cell_type": "code",
   "execution_count": 144,
   "id": "76118de4-a51f-46d4-8f10-e8c3d7481471",
   "metadata": {},
   "outputs": [
    {
     "name": "stdout",
     "output_type": "stream",
     "text": [
      "291/291 [==============================] - 14s 45ms/step - loss: 2.0926 - accuracy: 0.4255\n"
     ]
    },
    {
     "data": {
      "text/plain": [
       "[2.0925886631011963, 0.425525039434433]"
      ]
     },
     "execution_count": 144,
     "metadata": {},
     "output_type": "execute_result"
    }
   ],
   "source": [
    "model.evaluate(X_test, y_test)"
   ]
  },
  {
   "cell_type": "code",
   "execution_count": 145,
   "id": "0355de78-4c9a-4658-a52e-cc3239501d7e",
   "metadata": {},
   "outputs": [
    {
     "name": "stdout",
     "output_type": "stream",
     "text": [
      "291/291 [==============================] - 13s 44ms/step\n"
     ]
    },
    {
     "name": "stderr",
     "output_type": "stream",
     "text": [
      "C:\\Users\\user\\anaconda3\\envs\\tf-gpu\\lib\\site-packages\\sklearn\\metrics\\_classification.py:1565: UndefinedMetricWarning: Precision is ill-defined and being set to 0.0 in labels with no predicted samples. Use `zero_division` parameter to control this behavior.\n",
      "  _warn_prf(average, modifier, f\"{metric.capitalize()} is\", len(result))\n"
     ]
    },
    {
     "data": {
      "text/plain": [
       "{'accuracy': 0.42552504038772215,\n",
       " 'precision': 0.4119483852691328,\n",
       " 'recall': 0.42552504038772215,\n",
       " 'f1': 0.39749210242655275}"
      ]
     },
     "execution_count": 145,
     "metadata": {},
     "output_type": "execute_result"
    }
   ],
   "source": [
    "pred_probs = model.predict(X_test)\n",
    "preds = tf.argmax(pred_probs, axis=1)\n",
    "results = calculate_results(y_test, preds)\n",
    "results"
   ]
  },
  {
   "cell_type": "code",
   "execution_count": 146,
   "id": "0ef536c2-32dd-4665-83aa-533486f75cdc",
   "metadata": {},
   "outputs": [
    {
     "data": {
      "text/plain": [
       "<Axes: >"
      ]
     },
     "execution_count": 146,
     "metadata": {},
     "output_type": "execute_result"
    },
    {
     "data": {
      "image/png": "[encoded data removed]",
      "text/plain": [
       "<Figure size 640x480 with 2 Axes>"
      ]
     },
     "metadata": {},
     "output_type": "display_data"
    }
   ],
   "source": [
    "from sklearn.metrics import confusion_matrix\n",
    "cm = confusion_matrix(y_test, preds)\n",
    "sns.heatmap(cm, cmap=\"Blues\")"
   ]
  },
  {
   "cell_type": "code",
   "execution_count": null,
   "id": "7ff5bed5-56bc-4863-9633-6e620985eafc",
   "metadata": {},
   "outputs": [],
   "source": []
  }
 ],
 "metadata": {
  "kernelspec": {
   "display_name": "Python 3 (ipykernel)",
   "language": "python",
   "name": "python3"
  },
  "language_info": {
   "codemirror_mode": {
    "name": "ipython",
    "version": 3
   },
   "file_extension": ".py",
   "mimetype": "text/x-python",
   "name": "python",
   "nbconvert_exporter": "python",
   "pygments_lexer": "ipython3",
   "version": "3.10.16"
  }
 },
 "nbformat": 4,
 "nbformat_minor": 5
}
